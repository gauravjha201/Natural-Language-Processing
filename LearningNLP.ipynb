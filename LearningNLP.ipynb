{
  "nbformat": 4,
  "nbformat_minor": 0,
  "metadata": {
    "colab": {
      "provenance": [],
      "authorship_tag": "ABX9TyNMdzo6skwm+axMgliN7OB/",
      "include_colab_link": true
    },
    "kernelspec": {
      "name": "python3",
      "display_name": "Python 3"
    },
    "language_info": {
      "name": "python"
    }
  },
  "cells": [
    {
      "cell_type": "markdown",
      "metadata": {
        "id": "view-in-github",
        "colab_type": "text"
      },
      "source": [
        "<a href=\"https://colab.research.google.com/github/gauravjha201/Natural-Language-Processing/blob/main/LearningNLP.ipynb\" target=\"_parent\"><img src=\"https://colab.research.google.com/assets/colab-badge.svg\" alt=\"Open In Colab\"/></a>"
      ]
    },
    {
      "cell_type": "code",
      "execution_count": null,
      "metadata": {
        "colab": {
          "base_uri": "https://localhost:8080/"
        },
        "id": "a_7aje8ZM2wQ",
        "outputId": "84c52fe6-c89d-4026-842a-bf6719ab60af"
      },
      "outputs": [
        {
          "output_type": "stream",
          "name": "stdout",
          "text": [
            "Gaurav jha is the best.\n",
            "he is getting high paying job\n"
          ]
        }
      ],
      "source": [
        "import spacy\n",
        "nlp=spacy.load(\"en_core_web_sm\")\n",
        "text=nlp(\"Gaurav jha is the best. he is getting high paying job \")\n",
        "for sentence in text.sents:\n",
        "  print(sentence)\n"
      ]
    },
    {
      "cell_type": "code",
      "source": [
        "for sentence in text.sents:\n",
        "  for word in sentence :\n",
        "    print(word)"
      ],
      "metadata": {
        "colab": {
          "base_uri": "https://localhost:8080/"
        },
        "id": "ZMA4fFtGO_ol",
        "outputId": "4113fb59-43e8-4a24-d402-a3727f38b874"
      },
      "execution_count": null,
      "outputs": [
        {
          "output_type": "stream",
          "name": "stdout",
          "text": [
            "Gaurav\n",
            "jha\n",
            "is\n",
            "the\n",
            "best\n",
            ".\n",
            "he\n",
            "is\n",
            "getting\n",
            "high\n",
            "paying\n",
            "job\n"
          ]
        }
      ]
    },
    {
      "cell_type": "code",
      "source": [
        "import spacy\n",
        "nlp=spacy.blank(\"en\")\n",
        "doc=nlp('''\"Let;s go to N.Y!\"''')\n",
        "for token in doc:\n",
        "  print(token)"
      ],
      "metadata": {
        "colab": {
          "base_uri": "https://localhost:8080/"
        },
        "id": "qd_Tlr_gcMlB",
        "outputId": "70a23b31-2813-4bb1-c534-478e6b41b33a"
      },
      "execution_count": null,
      "outputs": [
        {
          "output_type": "stream",
          "name": "stdout",
          "text": [
            "\"\n",
            "Let;s\n",
            "go\n",
            "to\n",
            "N.Y\n",
            "!\n",
            "\"\n"
          ]
        }
      ]
    },
    {
      "cell_type": "code",
      "source": [
        "import spacy\n",
        "nlp=spacy.blank(\"en\")\n",
        "doc=nlp(\"Gaurav Jha is the best. he is getting high paying job\")\n",
        "for token in doc:\n",
        "  print(token)\n"
      ],
      "metadata": {
        "colab": {
          "base_uri": "https://localhost:8080/"
        },
        "id": "NYbbshyAZYtF",
        "outputId": "3e2feb5b-aeed-480c-cd36-27dbd244e767"
      },
      "execution_count": null,
      "outputs": [
        {
          "output_type": "stream",
          "name": "stdout",
          "text": [
            "Gaurav\n",
            "Jha\n",
            "is\n",
            "the\n",
            "best\n",
            ".\n",
            "he\n",
            "is\n",
            "getting\n",
            "high\n",
            "paying\n",
            "job\n"
          ]
        }
      ]
    },
    {
      "cell_type": "code",
      "source": [
        "doc[0]\n"
      ],
      "metadata": {
        "colab": {
          "base_uri": "https://localhost:8080/"
        },
        "id": "hcsZzZvAbRwO",
        "outputId": "13d2c451-f5cc-4edd-d94a-7b84a02ba77f"
      },
      "execution_count": null,
      "outputs": [
        {
          "output_type": "execute_result",
          "data": {
            "text/plain": [
              "Gaurav"
            ]
          },
          "metadata": {},
          "execution_count": 12
        }
      ]
    },
    {
      "cell_type": "code",
      "source": [
        "doc[0:5]"
      ],
      "metadata": {
        "colab": {
          "base_uri": "https://localhost:8080/"
        },
        "id": "FwyZYRHtcomF",
        "outputId": "0e615c92-2b15-4325-8157-fdc85d6136db"
      },
      "execution_count": null,
      "outputs": [
        {
          "output_type": "execute_result",
          "data": {
            "text/plain": [
              "Gaurav Jha is the best"
            ]
          },
          "metadata": {},
          "execution_count": 14
        }
      ]
    },
    {
      "cell_type": "code",
      "source": [
        "type(nlp)\n"
      ],
      "metadata": {
        "colab": {
          "base_uri": "https://localhost:8080/",
          "height": 203
        },
        "id": "T8570z06cz-p",
        "outputId": "593ab6f4-5572-4a15-9d4d-c474d0a63990"
      },
      "execution_count": null,
      "outputs": [
        {
          "output_type": "execute_result",
          "data": {
            "text/plain": [
              "spacy.lang.en.English"
            ],
            "text/html": [
              "<div style=\"max-width:800px; border: 1px solid var(--colab-border-color);\"><style>\n",
              "      pre.function-repr-contents {\n",
              "        overflow-x: auto;\n",
              "        padding: 8px 12px;\n",
              "        max-height: 500px;\n",
              "      }\n",
              "\n",
              "      pre.function-repr-contents.function-repr-contents-collapsed {\n",
              "        cursor: pointer;\n",
              "        max-height: 100px;\n",
              "      }\n",
              "    </style>\n",
              "    <pre style=\"white-space: initial; background:\n",
              "         var(--colab-secondary-surface-color); padding: 8px 12px;\n",
              "         border-bottom: 1px solid var(--colab-border-color);\"><b>spacy.lang.en.English</b><br/>def __call__(text: Union[str, Doc], *, disable: Iterable[str]=SimpleFrozenList(), component_cfg: Optional[Dict[str, Dict[str, Any]]]=None) -&gt; Doc</pre><pre class=\"function-repr-contents function-repr-contents-collapsed\" style=\"\"><a class=\"filepath\" style=\"display:none\" href=\"#\">/usr/local/lib/python3.11/dist-packages/spacy/lang/en/__init__.py</a>A text-processing pipeline. Usually you&#x27;ll load this once per process,\n",
              "and pass the instance around your application.\n",
              "\n",
              "Defaults (class): Settings, data and factory methods for creating the `nlp`\n",
              "    object and processing pipeline.\n",
              "lang (str): IETF language code, such as &#x27;en&#x27;.\n",
              "\n",
              "DOCS: https://spacy.io/api/language</pre>\n",
              "      <script>\n",
              "      if (google.colab.kernel.accessAllowed && google.colab.files && google.colab.files.view) {\n",
              "        for (const element of document.querySelectorAll('.filepath')) {\n",
              "          element.style.display = 'block'\n",
              "          element.onclick = (event) => {\n",
              "            event.preventDefault();\n",
              "            event.stopPropagation();\n",
              "            google.colab.files.view(element.textContent, 22);\n",
              "          };\n",
              "        }\n",
              "      }\n",
              "      for (const element of document.querySelectorAll('.function-repr-contents')) {\n",
              "        element.onclick = (event) => {\n",
              "          event.preventDefault();\n",
              "          event.stopPropagation();\n",
              "          element.classList.toggle('function-repr-contents-collapsed');\n",
              "        };\n",
              "      }\n",
              "      </script>\n",
              "      </div>"
            ]
          },
          "metadata": {},
          "execution_count": 17
        }
      ]
    },
    {
      "cell_type": "code",
      "source": [
        "doc=nlp(\"Tony gave two $ to Peter\")\n",
        "token0=doc[0]\n",
        "token0"
      ],
      "metadata": {
        "colab": {
          "base_uri": "https://localhost:8080/"
        },
        "id": "mFuTMysGdPH1",
        "outputId": "11482bd5-e2ba-455b-a21c-e04e0e52dc2e"
      },
      "execution_count": null,
      "outputs": [
        {
          "output_type": "execute_result",
          "data": {
            "text/plain": [
              "Tony"
            ]
          },
          "metadata": {},
          "execution_count": 26
        }
      ]
    },
    {
      "cell_type": "code",
      "source": [
        "type(token0)"
      ],
      "metadata": {
        "colab": {
          "base_uri": "https://localhost:8080/"
        },
        "id": "-YcQOfu7dzrw",
        "outputId": "efcf09ad-db59-4773-8253-6015cbbd166d"
      },
      "execution_count": null,
      "outputs": [
        {
          "output_type": "execute_result",
          "data": {
            "text/plain": [
              "spacy.tokens.token.Token"
            ]
          },
          "metadata": {},
          "execution_count": 27
        }
      ]
    },
    {
      "cell_type": "code",
      "source": [
        "token0=doc[0]\n",
        "token0"
      ],
      "metadata": {
        "colab": {
          "base_uri": "https://localhost:8080/"
        },
        "id": "AuauhEGkepri",
        "outputId": "16b08624-75b7-4bbb-dbc1-5ae4f7421b33"
      },
      "execution_count": null,
      "outputs": [
        {
          "output_type": "execute_result",
          "data": {
            "text/plain": [
              "Tony"
            ]
          },
          "metadata": {},
          "execution_count": 28
        }
      ]
    },
    {
      "cell_type": "code",
      "source": [
        "token0.like_num"
      ],
      "metadata": {
        "colab": {
          "base_uri": "https://localhost:8080/"
        },
        "id": "phLOh6oQexN_",
        "outputId": "0d27ec39-6371-49b5-d527-6f76e2056327"
      },
      "execution_count": null,
      "outputs": [
        {
          "output_type": "execute_result",
          "data": {
            "text/plain": [
              "False"
            ]
          },
          "metadata": {},
          "execution_count": 29
        }
      ]
    },
    {
      "cell_type": "code",
      "source": [
        "token1=doc[2]\n",
        "token1"
      ],
      "metadata": {
        "colab": {
          "base_uri": "https://localhost:8080/"
        },
        "id": "QP7rXft8eecZ",
        "outputId": "5ec1cf0d-dc93-4ab3-ac80-6261724b0c57"
      },
      "execution_count": null,
      "outputs": [
        {
          "output_type": "execute_result",
          "data": {
            "text/plain": [
              "two"
            ]
          },
          "metadata": {},
          "execution_count": 30
        }
      ]
    },
    {
      "cell_type": "code",
      "source": [
        "token1.like_num"
      ],
      "metadata": {
        "colab": {
          "base_uri": "https://localhost:8080/"
        },
        "id": "WKIJd-sGeni0",
        "outputId": "7dc680d1-5828-4d1a-e12d-deb6003be8df"
      },
      "execution_count": null,
      "outputs": [
        {
          "output_type": "execute_result",
          "data": {
            "text/plain": [
              "True"
            ]
          },
          "metadata": {},
          "execution_count": 31
        }
      ]
    },
    {
      "cell_type": "code",
      "source": [
        "token2=doc[3]\n",
        "token2"
      ],
      "metadata": {
        "colab": {
          "base_uri": "https://localhost:8080/"
        },
        "id": "-AzG8YdffKSk",
        "outputId": "81e5871b-3c67-4d0c-90b1-44de75c51772"
      },
      "execution_count": null,
      "outputs": [
        {
          "output_type": "execute_result",
          "data": {
            "text/plain": [
              "$"
            ]
          },
          "metadata": {},
          "execution_count": 32
        }
      ]
    },
    {
      "cell_type": "code",
      "source": [
        "token2.is_currency"
      ],
      "metadata": {
        "colab": {
          "base_uri": "https://localhost:8080/"
        },
        "id": "vBltbStCfP2V",
        "outputId": "3b832e40-49a2-441d-d8a9-3772ad222e24"
      },
      "execution_count": null,
      "outputs": [
        {
          "output_type": "execute_result",
          "data": {
            "text/plain": [
              "True"
            ]
          },
          "metadata": {},
          "execution_count": 33
        }
      ]
    },
    {
      "cell_type": "code",
      "source": [
        "for token in doc :\n",
        "  print(token,\"=>\",\"index:\",token.i,\n",
        "        \"is_alpha :\",token.is_alpha,\n",
        "        \"is_pun :\",token.is_punct,\n",
        "        \"like_num :\",token.like_num,\n",
        "        \"is_currency :\",token.is_currency)\n"
      ],
      "metadata": {
        "colab": {
          "base_uri": "https://localhost:8080/"
        },
        "id": "t8ZGQpN-ft0W",
        "outputId": "4c88e04c-7125-448f-db9d-c1907d8dccd3"
      },
      "execution_count": null,
      "outputs": [
        {
          "output_type": "stream",
          "name": "stdout",
          "text": [
            "Tony => index: 0 is_alpha : True is_pun : False like_num : False is_currency : False\n",
            "gave => index: 1 is_alpha : True is_pun : False like_num : False is_currency : False\n",
            "two => index: 2 is_alpha : True is_pun : False like_num : True is_currency : False\n",
            "$ => index: 3 is_alpha : False is_pun : False like_num : False is_currency : True\n",
            "to => index: 4 is_alpha : True is_pun : False like_num : False is_currency : False\n",
            "Peter => index: 5 is_alpha : True is_pun : False like_num : False is_currency : False\n"
          ]
        }
      ]
    },
    {
      "cell_type": "code",
      "source": [
        "with open(\"/content/student.txt.txt\") as f:\n",
        "  text=f.readlines()\n",
        "text\n"
      ],
      "metadata": {
        "colab": {
          "base_uri": "https://localhost:8080/"
        },
        "id": "0K1q8C--i018",
        "outputId": "8f581aba-27cf-4220-845b-30c4cea0602c"
      },
      "execution_count": null,
      "outputs": [
        {
          "output_type": "execute_result",
          "data": {
            "text/plain": [
              "['\\n',\n",
              " '\\n',\n",
              " '| Name              | Email Address                |\\n',\n",
              " '|-------------------|------------------------------|\\n',\n",
              " '| Alice Johnson     | alice.johnson@example.com    |\\n',\n",
              " '| Bob Martinez      | bob.martinez@example.com     |\\n',\n",
              " '| Clara Singh       | clara.singh@example.com      |\\n',\n",
              " '| David Chen        | david.chen@example.com       |\\n',\n",
              " '| Emma Patel        | emma.patel@example.com       |\\n',\n",
              " '| Faisal Ahmed      | faisal.ahmed@example.com     |\\n',\n",
              " '| Grace Lee         | grace.lee@example.com        |\\n',\n",
              " '| Henry Thompson    | henry.thompson@example.com   |\\n',\n",
              " '| Ishita Verma      | ishita.verma@example.com     |\\n',\n",
              " '| Jack Robinson     | jack.robinson@example.com    |\\n',\n",
              " '\\n']"
            ]
          },
          "metadata": {},
          "execution_count": 36
        }
      ]
    },
    {
      "cell_type": "code",
      "source": [
        "text=' '.join(text)\n",
        "text"
      ],
      "metadata": {
        "colab": {
          "base_uri": "https://localhost:8080/",
          "height": 87
        },
        "id": "sT0V7vNzjdPS",
        "outputId": "acf9356b-09cf-4529-81a8-c34066be1633"
      },
      "execution_count": null,
      "outputs": [
        {
          "output_type": "execute_result",
          "data": {
            "text/plain": [
              "'\\n \\n | Name              | Email Address                |\\n |-------------------|------------------------------|\\n | Alice Johnson     | alice.johnson@example.com    |\\n | Bob Martinez      | bob.martinez@example.com     |\\n | Clara Singh       | clara.singh@example.com      |\\n | David Chen        | david.chen@example.com       |\\n | Emma Patel        | emma.patel@example.com       |\\n | Faisal Ahmed      | faisal.ahmed@example.com     |\\n | Grace Lee         | grace.lee@example.com        |\\n | Henry Thompson    | henry.thompson@example.com   |\\n | Ishita Verma      | ishita.verma@example.com     |\\n | Jack Robinson     | jack.robinson@example.com    |\\n \\n'"
            ],
            "application/vnd.google.colaboratory.intrinsic+json": {
              "type": "string"
            }
          },
          "metadata": {},
          "execution_count": 37
        }
      ]
    },
    {
      "cell_type": "code",
      "source": [
        "doc=nlp(text)\n",
        "email=[]\n",
        "for token in doc:\n",
        "  if token.like_email:\n",
        "    email.append(token)\n",
        "email\n"
      ],
      "metadata": {
        "colab": {
          "base_uri": "https://localhost:8080/"
        },
        "id": "HpZf5uRxkY60",
        "outputId": "8e0e4c84-4ed8-4b45-a865-a2e2e6865c1f"
      },
      "execution_count": null,
      "outputs": [
        {
          "output_type": "execute_result",
          "data": {
            "text/plain": [
              "[alice.johnson@example.com,\n",
              " bob.martinez@example.com,\n",
              " clara.singh@example.com,\n",
              " david.chen@example.com,\n",
              " emma.patel@example.com,\n",
              " faisal.ahmed@example.com,\n",
              " grace.lee@example.com,\n",
              " henry.thompson@example.com,\n",
              " ishita.verma@example.com,\n",
              " jack.robinson@example.com]"
            ]
          },
          "metadata": {},
          "execution_count": 45
        }
      ]
    },
    {
      "cell_type": "code",
      "source": [
        "nlp=spacy.blank(\"hi\")\n",
        "doc=nlp(\"केसे हो मेरे भैया मे सिख रहा हु\")\n",
        "for token in doc :\n",
        "  print(token)"
      ],
      "metadata": {
        "colab": {
          "base_uri": "https://localhost:8080/"
        },
        "id": "TJ3xHCudnAzJ",
        "outputId": "fc4c9e91-d837-469f-c4ed-678051f91068"
      },
      "execution_count": null,
      "outputs": [
        {
          "output_type": "stream",
          "name": "stdout",
          "text": [
            "केसे\n",
            "हो\n",
            "मेरे\n",
            "भैया\n",
            "मे\n",
            "सिख\n",
            "रहा\n",
            "हु\n"
          ]
        }
      ]
    },
    {
      "cell_type": "code",
      "source": [
        "doc=nlp(\"gimme double chess extra \")\n",
        "tokens=[token.text for token in doc]\n",
        "tokens"
      ],
      "metadata": {
        "colab": {
          "base_uri": "https://localhost:8080/"
        },
        "id": "meU3a40FnoT-",
        "outputId": "e306d0bf-a04a-4c35-fba5-fbf7836515ab"
      },
      "execution_count": null,
      "outputs": [
        {
          "output_type": "execute_result",
          "data": {
            "text/plain": [
              "['gim', 'me', 'double', 'chess', 'extra']"
            ]
          },
          "metadata": {},
          "execution_count": 61
        }
      ]
    },
    {
      "cell_type": "code",
      "source": [
        "from spacy.symbols import ORTH\n",
        "nlp.tokenizer.add_special_case(\"gimme\",[{ORTH:\"gim\"},{ORTH:\"me\"}])\n",
        "doc=nlp(\"gimme double chess extra \")\n",
        "tokens=[token.text for token in doc]\n",
        "tokens"
      ],
      "metadata": {
        "colab": {
          "base_uri": "https://localhost:8080/"
        },
        "id": "MYgoPNPKpQVa",
        "outputId": "b896bb78-5ba1-4f94-c0ac-b93aabdd8fb9"
      },
      "execution_count": null,
      "outputs": [
        {
          "output_type": "execute_result",
          "data": {
            "text/plain": [
              "['gim', 'me', 'double', 'chess', 'extra']"
            ]
          },
          "metadata": {},
          "execution_count": 60
        }
      ]
    },
    {
      "cell_type": "code",
      "source": [
        "# Add the sentencizer component to the pipeline\n",
        "nlp.add_pipe('sentencizer')\n",
        "doc=nlp(\"Gaurav Jha is best. he is getting high paying job\")\n",
        "for sentence in doc.sents:\n",
        "  print(sentence)"
      ],
      "metadata": {
        "colab": {
          "base_uri": "https://localhost:8080/"
        },
        "id": "H9GP4yYNssUA",
        "outputId": "3925ad90-14e6-47b7-8f54-6b8ff5ecc305"
      },
      "execution_count": null,
      "outputs": [
        {
          "output_type": "stream",
          "name": "stdout",
          "text": [
            "Gaurav Jha is best.\n",
            "he is getting high paying job\n"
          ]
        }
      ]
    },
    {
      "cell_type": "code",
      "source": [
        "#Exercise question 1\n",
        "text='''Look for data to help you address the question. Governments are good\n",
        "sources because data from public research is often freely available. Good\n",
        "places to start include http://www.data.gov/, and http://www.science.\n",
        "gov/, and in the United Kingdom, http://data.gov.uk/.\n",
        "Two of my favorite data sets are the General Social Survey at http://www3.norc.org/gss+website/,\n",
        "and the European Social Survey at http://www.europeansocialsurvey.org/.'''\n",
        "doc = nlp(text) # Process the text with nlp to create a Doc object\n",
        "url=[]\n",
        "for token in doc : # Iterate through the doc object instead of the text string\n",
        "  if token.like_url:\n",
        "    url.append(token)\n",
        "url"
      ],
      "metadata": {
        "colab": {
          "base_uri": "https://localhost:8080/"
        },
        "id": "5yjWVc_5tvQd",
        "outputId": "b3b3220e-e420-471a-c48f-3fbda207d230"
      },
      "execution_count": null,
      "outputs": [
        {
          "output_type": "execute_result",
          "data": {
            "text/plain": [
              "[http://www.data.gov/,\n",
              " http://www.science,\n",
              " http://data.gov.uk/.,\n",
              " http://www3.norc.org/gss+website/,\n",
              " http://www.europeansocialsurvey.org/.]"
            ]
          },
          "metadata": {},
          "execution_count": 68
        }
      ]
    },
    {
      "cell_type": "code",
      "source": [
        "#Question 2:\n",
        "transactions = \"Tony gave two $ to Peter, Bruce gave 500 € to Steve\"\n",
        "doc=nlp(transactions)\n",
        "for token in doc :\n",
        "  if token.like_num and doc[token.i+1].is_currency: # Use token.is_currency instead of token.like_currency\n",
        "    print(token.text,doc[token.i+1].text)\n"
      ],
      "metadata": {
        "colab": {
          "base_uri": "https://localhost:8080/"
        },
        "id": "l7LXcRHqvBZb",
        "outputId": "f3479ff0-953f-4ae8-e393-c63bcbc0dd0e"
      },
      "execution_count": null,
      "outputs": [
        {
          "output_type": "stream",
          "name": "stdout",
          "text": [
            "500 €\n"
          ]
        }
      ]
    },
    {
      "cell_type": "code",
      "source": [
        "import spacy\n",
        "nlp=spacy.load(\"en_core_web_sm\")\n",
        "doc=nlp(\"I am Gaurav Jha . and I am the best\")\n",
        "for token in doc :\n",
        "  print(token)"
      ],
      "metadata": {
        "colab": {
          "base_uri": "https://localhost:8080/"
        },
        "id": "cwI5Drn5tmVu",
        "outputId": "53399973-f2a0-4d02-a1f8-392e1ab600bb"
      },
      "execution_count": null,
      "outputs": [
        {
          "output_type": "stream",
          "name": "stdout",
          "text": [
            "I\n",
            "am\n",
            "Gaurav\n",
            "Jha\n",
            ".\n",
            "and\n",
            "I\n",
            "am\n",
            "the\n",
            "best\n"
          ]
        }
      ]
    },
    {
      "cell_type": "code",
      "source": [
        "nlp.pipe_names"
      ],
      "metadata": {
        "colab": {
          "base_uri": "https://localhost:8080/"
        },
        "id": "LmWFG6rEuYom",
        "outputId": "4d03bfd5-5061-4d89-93c0-f3d6759de848"
      },
      "execution_count": null,
      "outputs": [
        {
          "output_type": "execute_result",
          "data": {
            "text/plain": [
              "['tok2vec', 'tagger', 'parser', 'attribute_ruler', 'lemmatizer', 'ner']"
            ]
          },
          "metadata": {},
          "execution_count": 13
        }
      ]
    },
    {
      "cell_type": "code",
      "source": [
        "nlp.pipeline"
      ],
      "metadata": {
        "colab": {
          "base_uri": "https://localhost:8080/"
        },
        "id": "kuX3A2Z8udvq",
        "outputId": "bf4bc870-1200-4fcd-8349-ba9a2d2077b8"
      },
      "execution_count": null,
      "outputs": [
        {
          "output_type": "execute_result",
          "data": {
            "text/plain": [
              "[('tok2vec', <spacy.pipeline.tok2vec.Tok2Vec at 0x7d7feadb3a70>),\n",
              " ('tagger', <spacy.pipeline.tagger.Tagger at 0x7d7feb2f70b0>),\n",
              " ('parser', <spacy.pipeline.dep_parser.DependencyParser at 0x7d7fe6dac7b0>),\n",
              " ('attribute_ruler',\n",
              "  <spacy.pipeline.attributeruler.AttributeRuler at 0x7d7fe6d55250>),\n",
              " ('lemmatizer',\n",
              "  <spacy.lang.en.lemmatizer.EnglishLemmatizer at 0x7d7fe7fa2e10>),\n",
              " ('ner', <spacy.pipeline.ner.EntityRecognizer at 0x7d7fe6dac900>)]"
            ]
          },
          "metadata": {},
          "execution_count": 16
        }
      ]
    },
    {
      "cell_type": "code",
      "source": [
        "doc=nlp(\"captain america ate 100$ of samosa . and then said i do this all day\")\n",
        "for token in doc :\n",
        "  print(token,\"|\",token.pos_,\"|\",token.lemma_)"
      ],
      "metadata": {
        "colab": {
          "base_uri": "https://localhost:8080/"
        },
        "id": "HOcRN6dEuyHE",
        "outputId": "96438fee-6495-4e4f-fa5a-3b8d8197984e"
      },
      "execution_count": null,
      "outputs": [
        {
          "output_type": "stream",
          "name": "stdout",
          "text": [
            "captain | PROPN | captain\n",
            "america | PROPN | america\n",
            "ate | VERB | eat\n",
            "100 | NUM | 100\n",
            "$ | NUM | $\n",
            "of | ADP | of\n",
            "samosa | PROPN | samosa\n",
            ". | PUNCT | .\n",
            "and | CCONJ | and\n",
            "then | ADV | then\n",
            "said | VERB | say\n",
            "i | PRON | I\n",
            "do | VERB | do\n",
            "this | PRON | this\n",
            "all | DET | all\n",
            "day | NOUN | day\n"
          ]
        }
      ]
    },
    {
      "cell_type": "code",
      "source": [
        "doc=nlp(\"Tesla Inc is going to acquire twitter for $45 billion\")\n",
        "for ent in doc.ents:\n",
        "  print(ent.text,\"|\",ent.label_,\"|\",spacy.explain(ent.label_))"
      ],
      "metadata": {
        "colab": {
          "base_uri": "https://localhost:8080/"
        },
        "id": "urmjZ065v-KU",
        "outputId": "396c908d-3b38-497b-a598-95b33363a6cb"
      },
      "execution_count": null,
      "outputs": [
        {
          "output_type": "stream",
          "name": "stdout",
          "text": [
            "Tesla Inc | ORG | Companies, agencies, institutions, etc.\n",
            "$45 billion | MONEY | Monetary values, including unit\n"
          ]
        }
      ]
    },
    {
      "cell_type": "code",
      "source": [
        "from spacy import displacy\n",
        "displacy.render(doc,style=\"ent\")\n"
      ],
      "metadata": {
        "colab": {
          "base_uri": "https://localhost:8080/",
          "height": 52
        },
        "id": "fQzxb_y0xDne",
        "outputId": "9fc2fbd9-c156-44c5-ebba-312497f9279a"
      },
      "execution_count": null,
      "outputs": [
        {
          "output_type": "display_data",
          "data": {
            "text/plain": [
              "<IPython.core.display.HTML object>"
            ],
            "text/html": [
              "<span class=\"tex2jax_ignore\"><div class=\"entities\" style=\"line-height: 2.5; direction: ltr\">\n",
              "<mark class=\"entity\" style=\"background: #7aecec; padding: 0.45em 0.6em; margin: 0 0.25em; line-height: 1; border-radius: 0.35em;\">\n",
              "    Tesla Inc\n",
              "    <span style=\"font-size: 0.8em; font-weight: bold; line-height: 1; border-radius: 0.35em; vertical-align: middle; margin-left: 0.5rem\">ORG</span>\n",
              "</mark>\n",
              " is going to acquire twitter for \n",
              "<mark class=\"entity\" style=\"background: #e4e7d2; padding: 0.45em 0.6em; margin: 0 0.25em; line-height: 1; border-radius: 0.35em;\">\n",
              "    $45 billion\n",
              "    <span style=\"font-size: 0.8em; font-weight: bold; line-height: 1; border-radius: 0.35em; vertical-align: middle; margin-left: 0.5rem\">MONEY</span>\n",
              "</mark>\n",
              "</div></span>"
            ]
          },
          "metadata": {}
        }
      ]
    },
    {
      "cell_type": "code",
      "source": [
        "source_nlp=spacy.load(\"en_core_web_sm\")\n",
        "nlp=spacy.blank(\"en\")\n",
        "nlp.add_pipe(\"ner\",source=source_nlp)\n",
        "nlp.pipe_names"
      ],
      "metadata": {
        "colab": {
          "base_uri": "https://localhost:8080/"
        },
        "id": "DCYuVIP-zMj_",
        "outputId": "6acf6b5b-897e-424c-e988-4af08fbaae35"
      },
      "execution_count": null,
      "outputs": [
        {
          "output_type": "execute_result",
          "data": {
            "text/plain": [
              "['ner']"
            ]
          },
          "metadata": {},
          "execution_count": 26
        }
      ]
    }
  ]
}